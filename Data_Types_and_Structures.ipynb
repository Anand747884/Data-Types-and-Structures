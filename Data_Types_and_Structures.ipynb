{
  "nbformat": 4,
  "nbformat_minor": 0,
  "metadata": {
    "colab": {
      "provenance": []
    },
    "kernelspec": {
      "name": "python3",
      "display_name": "Python 3"
    },
    "language_info": {
      "name": "python"
    }
  },
  "cells": [
    {
      "cell_type": "markdown",
      "source": [
        "#Data Types and Structures Questions"
      ],
      "metadata": {
        "id": "fS2LP4T-QxK_"
      }
    },
    {
      "cell_type": "markdown",
      "source": [
        "1. What are data structures, and why are they important?\n",
        "\n",
        "  > Data structures are ways of organizing and storing data so that they can be used efficiently. They provide a systematic way to manage information, making it easier to access, modify, and process data. Common types of data structures include arrays, linked lists, stacks, queues, trees, graphs, and hash tables.\n",
        "\n",
        "### Importance of Data Structures:\n",
        "1.Efficiency: Well-designed data structures optimize storage and retrieval operations, making programs run faster and use memory effectively.\n",
        "\n",
        "2.Scalability: They allow software to handle large amounts of data smoothly, preventing slow performance.\n",
        "\n",
        "3.Organized Data Management: They help store and structure data logically, making it easier to find and manipulate.\n",
        "\n",
        "4.Algorithm Optimization: Many algorithms rely on data structures to execute operations efficiently, such as searching and sorting.\n",
        "\n",
        "5.Enhancing Problem-Solving: Understanding data structures helps programmers develop better solutions for computational problems.\n"
      ],
      "metadata": {
        "id": "d1blKrLtQziw"
      }
    },
    {
      "cell_type": "markdown",
      "source": [
        "2.  Explain the difference between mutable and immutable data types with examples.\n",
        "\n",
        "\n",
        "  >### Mutable vs. Immutable Data Types:\n",
        "\n",
        "In programming, **mutable** data types are those that **can be changed** after creation, while **immutable** data types **cannot be modified** once they are created.\n",
        "\n",
        "#### **Mutable Data Types:**\n",
        "- These allow modifications such as adding, removing, or changing elements.\n",
        "- Examples: **Lists, Sets, Dictionaries** in Python.\n",
        "\n",
        "**Example of Mutable Data Type (List in Python):**\n",
        "```python\n",
        "my_list = [1, 2, 3]\n",
        "my_list[0] = 100  # Changing the first element\n",
        "print(my_list)  # Output: [100, 2, 3]\n",
        "```\n",
        "Here, the original list `[1, 2, 3]` is modified.\n",
        "\n",
        "#### **Immutable Data Types:**\n",
        "- These **cannot be changed** after creation.\n",
        "- Examples: **Tuples, Strings, Integers, Floats** in Python.\n",
        "\n",
        "**Example of Immutable Data Type (String in Python):**\n",
        "```python\n",
        "my_string = \"Hello\"\n",
        "my_string[0] = \"J\"  # This will cause an error\n",
        "print(my_string)\n",
        "```\n",
        "Strings are immutable, so attempting to modify `\"Hello\"` directly results in an error.\n"
      ],
      "metadata": {
        "id": "nlZ7yoOnRev6"
      }
    },
    {
      "cell_type": "markdown",
      "source": [
        "3. What are the main differences between lists and tuples in Python\n",
        "\n",
        "  >### **Lists vs. Tuples in Python**  \n",
        "Both **lists** and **tuples** are used to store collections of data in Python, but they have key differences that affect how they are used.\n",
        "\n",
        "#### **1. Mutability**  \n",
        "- **Lists** are **mutable**, meaning their elements can be changed after creation.  \n",
        "- **Tuples** are **immutable**, meaning once created, their elements cannot be modified.\n",
        "\n",
        "#### **2. Syntax**  \n",
        "- **Lists** are defined using **square brackets** `[]`.  \n",
        "  ```python\n",
        "  my_list = [1, 2, 3]\n",
        "  ```\n",
        "- **Tuples** are defined using **parentheses** `()`.  \n",
        "  ```python\n",
        "  my_tuple = (1, 2, 3)\n",
        "  ```\n",
        "\n",
        "#### **3. Performance**  \n",
        "- **Tuples** are **faster** than lists when iterating over elements because they are stored in a single memory block.  \n",
        "- **Lists** require more memory and processing time due to their dynamic nature.\n",
        "\n",
        "#### **4. Use Cases**  \n",
        "- **Lists** are preferred when data needs to be modified frequently.  \n",
        "- **Tuples** are ideal for **fixed** data that should remain unchanged, such as database records.\n",
        "\n",
        "#### **5. Built-in Methods**  \n",
        "- **Lists** have more built-in methods like `.append()`, `.remove()`, and `.sort()`.  \n",
        "- **Tuples** have fewer methods, mainly `.count()` and `.index()`.\n"
      ],
      "metadata": {
        "id": "xTz4bq7kR3B7"
      }
    },
    {
      "cell_type": "markdown",
      "source": [
        "4. Describe how dictionaries store data\n",
        "\n",
        "> ### **How Dictionaries Store Data in Python**  \n",
        "Dictionaries in Python store data in **key-value pairs**, making them an efficient way to organize and retrieve information.\n",
        "\n",
        "#### **1. Structure of a Dictionary**  \n",
        "- A dictionary is defined using **curly braces `{}`**.\n",
        "- Each key is associated with a value using a **colon `:`**.\n",
        "- Multiple key-value pairs are separated by **commas `,`**.\n",
        "\n",
        "**Example:**\n",
        "```python\n",
        "student = {\"name\": \"Alice\", \"age\": 25, \"city\": \"New York\"}\n",
        "print(student[\"name\"])  # Output: Alice\n",
        "```\n",
        "Here, `\"name\"` is the key, and `\"Alice\"` is the value.\n",
        "\n",
        "#### **2. Key Characteristics**  \n",
        "- **Keys must be unique** and immutable (e.g., strings, numbers, tuples).\n",
        "- **Values can be of any data type**, including lists, tuples, or even other dictionaries.\n",
        "- **Dictionaries are unordered**, meaning they do not maintain a fixed sequence.\n",
        "\n",
        "#### **3. How Data is Stored Internally**  \n",
        "- Python dictionaries use **hashing** to store keys efficiently.\n",
        "- Each key is converted into a **hash value**, which determines where the corresponding value is stored.\n",
        "- This allows for **fast lookups**, making dictionaries ideal for quick data retrieval.\n",
        "\n",
        "#### **4. Operations on Dictionaries**  \n",
        "- **Adding Data:** Assign a new key-value pair.\n",
        "- **Updating Data:** Modify an existing key’s value.\n",
        "- **Removing Data:** Use methods like `.pop()` or `del`.\n",
        "- **Iterating:** Loop through keys, values, or both.\n"
      ],
      "metadata": {
        "id": "g713d3z0SQzS"
      }
    },
    {
      "cell_type": "markdown",
      "source": [
        "5.  Why might you use a set instead of a list in Python\n",
        "\n",
        "  > ### **Why Use a Set Instead of a List in Python?**  \n",
        "Sets and lists are both used to store collections of elements in Python, but they have key differences that make sets preferable in certain situations.\n",
        "\n",
        "#### **1. Uniqueness of Elements**  \n",
        "- **Sets** automatically remove duplicate values, ensuring all elements are unique.  \n",
        "- **Lists** allow duplicates, which may require additional processing to remove them.\n",
        "\n",
        "#### **2. Faster Membership Testing**  \n",
        "- **Sets** use a **hash table** for membership tests, making `x in set` operations **much faster** (average **O(1)** time complexity).  \n",
        "- **Lists** require scanning each element, making `x in list` operations **slower** (average **O(n)** time complexity).\n",
        "\n",
        "#### **3. Mathematical Set Operations**  \n",
        "- **Sets** support operations like **union, intersection, and difference**, which are useful for comparing collections.  \n",
        "- **Lists** do not have built-in support for these operations.\n",
        "\n",
        "#### **4. Performance Considerations**  \n",
        "- **Sets** are **faster** for checking if an item exists but **slower** for iterating over elements.  \n",
        "- **Lists** are **better** when order matters and elements need to be accessed by index.\n",
        "\n",
        "#### **Example: Removing Duplicates Efficiently**  \n",
        "```python\n",
        "my_list = [1, 2, 2, 3, 4, 4, 5]\n",
        "unique_set = set(my_list)  # Removes duplicates automatically\n",
        "print(unique_set)  # Output: {1, 2, 3, 4, 5}\n",
        "```"
      ],
      "metadata": {
        "id": "wKi2T8V3Shlp"
      }
    },
    {
      "cell_type": "markdown",
      "source": [
        "6.  What is a string in Python, and how is it different from a list?\n",
        "\n",
        "  > A string in Python is a sequence of characters. Characters can include letters, numbers, symbols, and even spaces. Strings are used to represent text.\n",
        "\n",
        "    ### **Strings vs. Lists in Python**  \n",
        "Both **strings** and **lists** are used to store sequences of elements, but they have key differences in how they function.\n",
        "\n",
        "#### **1. Definition**  \n",
        "- **String:** A sequence of characters enclosed in quotes (`\"\"`, `''`).\n",
        "- **List:** A collection of elements (which can be of different types) enclosed in square brackets (`[]`).\n",
        "\n",
        "#### **2. Mutability**  \n",
        "- **Strings are immutable**, meaning once created, they cannot be changed.\n",
        "- **Lists are mutable**, meaning elements can be modified, added, or removed.\n",
        "\n",
        "#### **3. Element Type**  \n",
        "- **Strings** only contain characters.\n",
        "- **Lists** can contain **multiple data types**, including numbers, strings, and even other lists.\n",
        "\n",
        "#### **4. Indexing & Slicing**  \n",
        "Both support indexing and slicing, but modifying elements differs:\n",
        "```python\n",
        "# String Example\n",
        "my_string = \"Hello\"\n",
        "print(my_string[1])  # Output: 'e'\n",
        "my_string[1] = \"a\"  # ❌ Error! Strings are immutable\n",
        "\n",
        "# List Example\n",
        "my_list = [\"H\", \"e\", \"l\", \"l\", \"o\"]\n",
        "print(my_list[1])  # Output: 'e'\n",
        "my_list[1] = \"a\"  # ✅ Allowed! Lists are mutable\n",
        "print(my_list)  # Output: ['H', 'a', 'l', 'l', 'o']\n",
        "```\n",
        "\n",
        "#### **5. Performance Considerations**  \n",
        "- **Strings** are more memory-efficient for storing text.\n",
        "- **Lists** are more flexible but require more memory.\n"
      ],
      "metadata": {
        "id": "RUIKy6UwS2H4"
      }
    },
    {
      "cell_type": "markdown",
      "source": [
        "7.  How do tuples ensure data integrity in Python\n",
        "\n",
        "  > Tuples in Python help maintain **data integrity** by being **immutable**, meaning their values **cannot be changed** after creation. This makes them ideal for storing **fixed** data that should remain unchanged.\n",
        "\n",
        "#### **1. Immutability Prevents Accidental Modification**  \n",
        "- Once a tuple is created, its elements **cannot be altered, added, or removed**.\n",
        "- This prevents unintended changes, ensuring **data consistency**.\n",
        "\n",
        "#### **2. Safe for Hashing & Dictionary Keys**  \n",
        "- Since tuples are immutable, they can be used as **keys in dictionaries**, unlike lists.\n",
        "- This ensures **stable references** when storing key-value pairs.\n",
        "\n",
        "#### **3. Reliable for Fixed Data Storage**  \n",
        "- Tuples are useful for storing **configuration settings, database records, and constant values**.\n",
        "- Their immutability guarantees that critical data remains **unchanged**.\n",
        "\n",
        "#### **4. Memory Efficiency & Performance**  \n",
        "- Tuples consume **less memory** than lists, making them **faster** for accessing elements.\n",
        "- This improves efficiency when handling **large datasets**.\n",
        "\n",
        "#### **Example: Using Tuples for Data Integrity**  \n",
        "```python\n",
        "config_settings = (\"localhost\", 8080, \"admin\")  # Immutable configuration\n",
        "print(config_settings[0])  # Output: localhost\n",
        "\n",
        "# Attempting to modify a tuple will cause an error\n",
        "config_settings[1] = 9090  # ❌ TypeError: 'tuple' object does not support item assignment\n",
        "```"
      ],
      "metadata": {
        "id": "3I0znGfLUaBE"
      }
    },
    {
      "cell_type": "markdown",
      "source": [
        "8.  What is a hash table, and how does it relate to dictionaries in Python?\n",
        "\n",
        "  > ### **Hash Tables and Their Relation to Python Dictionaries**  \n",
        "A **hash table** is a data structure that stores key-value pairs using a **hash function** to map keys to unique memory locations. This allows for **fast data retrieval**, making hash tables highly efficient for searching and storing data.\n",
        "\n",
        "#### **How Hash Tables Work:**  \n",
        "1. A **hash function** converts a key into a unique index.\n",
        "2. The key-value pair is stored at that index in memory.\n",
        "3. When retrieving data, the hash function quickly finds the correct index, making lookups **fast** (average **O(1)** time complexity).\n",
        "\n",
        "#### **Relation to Python Dictionaries:**  \n",
        "- **Python dictionaries** are implemented using **hash tables**.\n",
        "- Each key in a dictionary is hashed to determine its storage location.\n",
        "- This makes dictionary operations like **lookup, insertion, and deletion** extremely efficient.\n",
        "\n",
        "#### **Example of a Dictionary Using Hashing:**  \n",
        "```python\n",
        "my_dict = {\"name\": \"Alice\", \"age\": 25, \"city\": \"New York\"}\n",
        "print(my_dict[\"age\"])  # Fast lookup using hashing\n",
        "```\n",
        "Here, `\"age\"` is hashed to find its storage location, allowing quick retrieval.\n"
      ],
      "metadata": {
        "id": "Zm31iTBUUt7k"
      }
    },
    {
      "cell_type": "markdown",
      "source": [
        "9.  Can lists contain different data types in Python?\n",
        "\n",
        "  > Yes! **Lists in Python can contain multiple different data types** in a single collection, making them highly flexible.\n",
        "\n",
        "### **Key Features of Lists and Mixed Data Types**  \n",
        "- Lists can store **integers, floats, strings, booleans, and even other lists or tuples**.\n",
        "- You can mix and match data types without restrictions.\n",
        "- Lists are **mutable**, meaning elements can be modified after creation.\n",
        "\n",
        "#### **Example: A List with Different Data Types**\n",
        "```python\n",
        "mixed_list = [42, \"hello\", 3.14, True, [1, 2, 3]]\n",
        "print(mixed_list)\n",
        "```\n",
        "**Output:**  \n",
        "`[42, 'hello', 3.14, True, [1, 2, 3]]`\n",
        "\n",
        "This list contains:\n",
        "- An **integer** (`42`)\n",
        "- A **string** (`\"hello\"`)\n",
        "- A **float** (`3.14`)\n",
        "- A **boolean** (`True`)\n",
        "- A **nested list** (`[1, 2, 3]`)"
      ],
      "metadata": {
        "id": "BfEUYx7rU_Kp"
      }
    },
    {
      "cell_type": "markdown",
      "source": [
        "10.  Explain why strings are immutable in Python.\n",
        "\n",
        "  > ### **Why Strings Are Immutable in Python**  \n",
        "Strings in Python are **immutable**, meaning once created, they **cannot be changed**. This design choice offers several advantages:\n",
        "\n",
        "#### **1. Memory Efficiency**  \n",
        "- Since strings are immutable, Python can **reuse** the same string object in memory instead of creating multiple copies.\n",
        "- This reduces memory usage and improves performance.\n",
        "\n",
        "#### **2. Hashability & Dictionary Keys**  \n",
        "- Immutable objects like strings can be used as **keys in dictionaries** because their hash value remains constant.\n",
        "- If strings were mutable, their hash value could change, making dictionary lookups unreliable.\n",
        "\n",
        "#### **3. Thread Safety**  \n",
        "- In **multi-threaded programs**, immutable objects prevent accidental modifications, reducing bugs and ensuring data consistency.\n",
        "\n",
        "#### **4. Predictability & Debugging**  \n",
        "- Since strings cannot be changed, their behavior is **more predictable**, making debugging easier.\n",
        "\n",
        "#### **Example: Attempting to Modify a String**  \n",
        "```python\n",
        "my_string = \"Hello\"\n",
        "my_string[0] = \"J\"  # ❌ TypeError: 'str' object does not support item assignment\n",
        "```\n",
        "This error occurs because Python does not allow direct modification of string characters."
      ],
      "metadata": {
        "id": "ymK_FkA-VUS9"
      }
    },
    {
      "cell_type": "markdown",
      "source": [
        "11.  What advantages do dictionaries offer over lists for certain tasks?\n",
        "\n",
        "  > ### **Advantages of Dictionaries Over Lists in Python**  \n",
        "Dictionaries and lists are both useful data structures, but dictionaries offer several advantages for specific tasks:\n",
        "\n",
        "#### **1. Faster Lookups**  \n",
        "- **Dictionaries use hashing**, allowing quick access to values using keys (**O(1) time complexity**).  \n",
        "- **Lists require searching** through elements (**O(n) time complexity**), making lookups slower.\n",
        "\n",
        "#### **2. Key-Value Pair Storage**  \n",
        "- **Dictionaries store data in key-value pairs**, making them ideal for structured data.  \n",
        "- **Lists store elements sequentially**, which may not be as efficient for certain tasks.\n",
        "\n",
        "#### **3. No Need for Index-Based Access**  \n",
        "- **Dictionaries allow direct access** using keys, making retrieval more intuitive.  \n",
        "- **Lists require knowing the index** of an element to access it.\n",
        "\n",
        "#### **4. Efficient Data Organization**  \n",
        "- **Dictionaries are great for mapping relationships**, such as storing user details (`{\"name\": \"Alice\", \"age\": 25}`).  \n",
        "- **Lists are better for ordered collections**, like storing a sequence of numbers.\n",
        "\n",
        "#### **5. Easier Data Modification**  \n",
        "- **Updating values in dictionaries** is straightforward (`dict[\"key\"] = new_value`).  \n",
        "- **Lists require finding the index** before modifying an element."
      ],
      "metadata": {
        "id": "_JlvkuO51TmW"
      }
    },
    {
      "cell_type": "markdown",
      "source": [
        "12.  Describe a scenario where using a tuple would be preferable over a list.\n",
        "\n",
        "  > ### **When to Use a Tuple Instead of a List**  \n",
        "A **tuple** is preferable over a **list** when you need **immutable** data that should not change throughout the program. Here are some scenarios where tuples are the better choice:\n",
        "\n",
        "#### **1. Storing Fixed Configuration Settings**  \n",
        "- If you have settings that should remain constant, a tuple ensures they are not accidentally modified.\n",
        "- Example:\n",
        "  ```python\n",
        "  config = (\"localhost\", 8080, \"admin\")  # Immutable configuration settings\n",
        "  ```\n",
        "\n",
        "#### **2. Using Tuples as Dictionary Keys**  \n",
        "- Since tuples are **hashable**, they can be used as dictionary keys, unlike lists.\n",
        "- Example:\n",
        "  ```python\n",
        "  user_data = {(\"Alice\", 25): \"Engineer\", (\"Bob\", 30): \"Designer\"}\n",
        "  ```\n",
        "\n",
        "#### **3. Ensuring Data Integrity in Function Returns**  \n",
        "- If a function returns multiple values that should not be altered, a tuple is ideal.\n",
        "- Example:\n",
        "  ```python\n",
        "  def get_coordinates():\n",
        "      return (40.7128, -74.0060)  # Latitude and Longitude (Immutable)\n",
        "  ```\n",
        "\n",
        "#### **4. Optimizing Performance for Large Data Sets**  \n",
        "- Tuples consume **less memory** and are **faster** than lists for iteration.\n",
        "- Example:\n",
        "  ```python\n",
        "  large_data = (1, 2, 3, 4, 5)  # Faster than a list for read-only operations\n",
        "  ```"
      ],
      "metadata": {
        "id": "zu2zAp3x3XYf"
      }
    },
    {
      "cell_type": "markdown",
      "source": [
        "13.  How do sets handle duplicate values in Python?\n",
        "\n",
        "  > ### **How Sets Handle Duplicate Values in Python**  \n",
        "Sets in Python are **unordered collections** that automatically **remove duplicate values**, ensuring all elements are unique.\n",
        "\n",
        "#### **1. Automatic Deduplication**  \n",
        "- When a list with duplicate values is converted into a set, Python **removes duplicates** automatically.\n",
        "- Example:\n",
        "  ```python\n",
        "  numbers = [1, 2, 2, 3, 4, 4, 5]\n",
        "  unique_numbers = set(numbers)\n",
        "  print(unique_numbers)  # Output: {1, 2, 3, 4, 5}\n",
        "  ```\n",
        "\n",
        "#### **2. Fast Membership Testing**  \n",
        "- Sets use **hashing**, making membership tests (`x in set`) **much faster** than lists.\n",
        "- Example:\n",
        "  ```python\n",
        "  my_set = {10, 20, 30}\n",
        "  print(20 in my_set)  # Output: True (Fast lookup)\n",
        "  ```\n",
        "\n",
        "#### **3. Set Operations for Handling Duplicates**  \n",
        "- **Union (`|`)** combines sets while removing duplicates.\n",
        "- **Intersection (`&`)** finds common elements between sets.\n",
        "- **Difference (`-`)** removes elements from one set that exist in another.\n"
      ],
      "metadata": {
        "id": "B75M2yEJ4OR0"
      }
    },
    {
      "cell_type": "markdown",
      "source": [
        "14.  How does the “in” keyword work differently for lists and dictionaries?\n",
        "\n",
        "  > The `in` keyword is used to check **membership** in both lists and dictionaries, but it behaves differently depending on the data structure.\n",
        "\n",
        "#### **1. `in` Keyword in Lists**  \n",
        "- Checks if a **value** exists in the list.\n",
        "- Requires **O(n)** time complexity (linear search).\n",
        "- Example:\n",
        "  ```python\n",
        "  my_list = [10, 20, 30, 40]\n",
        "  print(20 in my_list)  # ✅ Output: True\n",
        "  print(50 in my_list)  # ❌ Output: False\n",
        "  ```\n",
        "\n",
        "#### **2. `in` Keyword in Dictionaries**  \n",
        "- Checks if a **key** exists in the dictionary (not values).\n",
        "- Uses **hashing**, making lookups **O(1)** (constant time).\n",
        "- Example:\n",
        "  ```python\n",
        "  my_dict = {\"name\": \"Alice\", \"age\": 25}\n",
        "  print(\"name\" in my_dict)  # ✅ Output: True (checks key)\n",
        "  print(\"Alice\" in my_dict)  # ❌ Output: False (does not check values)\n",
        "  ```\n"
      ],
      "metadata": {
        "id": "T6Ai-LVI4iHH"
      }
    },
    {
      "cell_type": "markdown",
      "source": [
        "15.  Can you modify the elements of a tuple? Explain why or why not.\n",
        "\n",
        "  > No, **tuples are immutable**, meaning their elements **cannot be modified** after creation. This immutability ensures **data integrity** and prevents accidental changes.\n",
        "\n",
        "#### **Why Are Tuples Immutable?**  \n",
        "1. **Memory Efficiency:** Since tuples cannot be changed, Python optimizes their storage, making them faster than lists.  \n",
        "2. **Hashability:** Tuples can be used as **dictionary keys**, unlike lists, because their values remain constant.  \n",
        "3. **Thread Safety:** In multi-threaded applications, immutable objects prevent unintended modifications, ensuring consistency.  \n",
        "\n",
        "#### **Workarounds for Modifying Tuples**  \n",
        "Although tuples themselves **cannot be changed**, you can create a **new tuple** with modified values:  \n",
        "```python\n",
        "my_tuple = (1, 2, 3)\n",
        "new_tuple = (my_tuple[0], 100, my_tuple[2])  # Creating a new tuple with modified values\n",
        "print(new_tuple)  # Output: (1, 100, 3)\n",
        "```\n",
        "Alternatively, you can **convert a tuple into a list**, modify it, and then convert it back:  \n",
        "```python\n",
        "my_tuple = (1, 2, 3)\n",
        "temp_list = list(my_tuple)  # Convert to list\n",
        "temp_list[1] = 100  # Modify element\n",
        "my_tuple = tuple(temp_list)  # Convert back to tuple\n",
        "print(my_tuple)  # Output: (1, 100, 3)\n",
        "```"
      ],
      "metadata": {
        "id": "gFscogxW40-S"
      }
    },
    {
      "cell_type": "markdown",
      "source": [
        "16.  What is a nested dictionary, and give an example of its use case?\n",
        "\n",
        "  > ### **Nested Dictionary in Python**  \n",
        "A **nested dictionary** is a dictionary inside another dictionary. It allows hierarchical data storage, making it useful for organizing complex information.\n",
        "\n",
        "#### **Example Use Case: Storing Employee Records**  \n",
        "Imagine a company needs to store details of multiple employees, including their name, age, and department. A nested dictionary is ideal for this:\n",
        "\n",
        "```python\n",
        "employees = {\n",
        "    \"emp1\": {\"name\": \"Alice\", \"age\": 30, \"department\": \"HR\"},\n",
        "    \"emp2\": {\"name\": \"Bob\", \"age\": 25, \"department\": \"IT\"},\n",
        "    \"emp3\": {\"name\": \"Charlie\", \"age\": 28, \"department\": \"Finance\"}\n",
        "}\n",
        "\n",
        "# Accessing employee details\n",
        "print(employees[\"emp2\"][\"department\"])  # Output: IT\n",
        "```\n",
        "Here, each employee has their own dictionary within the main `employees` dictionary.\n",
        "\n",
        "#### **Why Use Nested Dictionaries?**  \n",
        "- **Organized Data Storage:** Helps structure related data efficiently.\n",
        "- **Easy Access:** Allows quick retrieval using keys.\n",
        "- **Scalability:** Can store multiple layers of information.\n"
      ],
      "metadata": {
        "id": "iUMq9qiE5ZSk"
      }
    },
    {
      "cell_type": "markdown",
      "source": [
        "17.  Describe the time complexity of accessing elements in a dictionary.\n",
        "\n",
        "  > Accessing elements in a Python dictionary is **highly efficient** due to its underlying **hash table** implementation.\n",
        "\n",
        "#### **1. Average Case: O(1) (Constant Time)**\n",
        "- When retrieving a value using its key (`dict[key]`), Python computes the **hash** of the key and directly finds its location in memory.\n",
        "- This allows **instant access**, regardless of the dictionary's size.\n",
        "\n",
        "#### **2. Worst Case: O(n) (Linear Time)**\n",
        "- In rare cases, **hash collisions** occur, meaning multiple keys share the same hash value.\n",
        "- Python resolves collisions using techniques like **chaining**, which may require scanning multiple entries, leading to **O(n)** complexity.\n",
        "\n",
        "#### **3. Other Dictionary Operations**\n",
        "| **Operation**          | **Time Complexity** |\n",
        "|------------------------|--------------------|\n",
        "| Accessing an element (`dict[key]`) | **O(1)** (average) |\n",
        "| Checking if a key exists (`key in dict`) | **O(1)** |\n",
        "| Adding or updating an element (`dict[key] = value`) | **O(1)** |\n",
        "| Deleting an element (`del dict[key]`) | **O(1)** |\n",
        "| Iterating over keys (`for key in dict`) | **O(n)** |\n",
        "| Getting all keys (`dict.keys()`) | **O(n)** |\n"
      ],
      "metadata": {
        "id": "GWmN36HI5nVb"
      }
    },
    {
      "cell_type": "markdown",
      "source": [
        "18.  In what situations are lists preferred over dictionaries?\n",
        "\n",
        "  >   Lists and dictionaries serve different purposes, and **lists** are preferable in certain situations:\n",
        "\n",
        "#### **1. Maintaining Order**  \n",
        "- **Lists preserve the order** of elements, making them ideal for sequential data.  \n",
        "- **Dictionaries (before Python 3.7) do not maintain order**, though modern versions do.\n",
        "\n",
        "#### **2. Storing Homogeneous Data**  \n",
        "- Lists are great for storing **collections of similar items**, such as numbers or strings.  \n",
        "- Dictionaries store **key-value pairs**, which may not be necessary for simple sequences.\n",
        "\n",
        "#### **3. Index-Based Access**  \n",
        "- Lists allow **direct access** to elements using an index (`list[0]`), making them useful for ordered data.  \n",
        "- Dictionaries require **key-based access**, which may not be needed for sequential data.\n",
        "\n",
        "#### **4. Iteration Efficiency**  \n",
        "- Iterating over a list is **faster** when you only need values.  \n",
        "- Dictionaries require iterating over **keys and values**, which can be more complex.\n",
        "\n",
        "#### **5. Simplicity for Small Data Sets**  \n",
        "- Lists are **simpler** to use when working with small collections of data.  \n",
        "- Dictionaries are better suited for **mapping relationships** between keys and values.\n",
        "\n",
        "#### **Example: Using a List for Ordered Data**  \n",
        "```python\n",
        "fruits = [\"apple\", \"banana\", \"cherry\"]\n",
        "print(fruits[1])  # Output: banana\n",
        "```"
      ],
      "metadata": {
        "id": "G-asEsmk554u"
      }
    },
    {
      "cell_type": "markdown",
      "source": [
        "19.  Why are dictionaries considered unordered, and how does that affect data retrieval?\n",
        "\n",
        "  > ### **Why Dictionaries Are Considered Unordered in Python**  \n",
        "Dictionaries in Python are **unordered collections** of key-value pairs, meaning their elements do not have a fixed sequence.\n",
        "\n",
        "#### **1. No Index-Based Access**  \n",
        "- Unlike lists, dictionaries do **not** store elements in a predictable order.  \n",
        "- You **cannot** access dictionary elements using an index (`dict[0]` is invalid).  \n",
        "\n",
        "#### **2. Key-Based Retrieval**  \n",
        "- Instead of indexing, dictionaries use **keys** to retrieve values efficiently.  \n",
        "- Example:\n",
        "  ```python\n",
        "  my_dict = {\"name\": \"Alice\", \"age\": 25}\n",
        "  print(my_dict[\"name\"])  # ✅ Output: Alice\n",
        "  ```\n",
        "\n",
        "#### **3. Hashing Mechanism**  \n",
        "- Dictionaries use **hash tables**, which store keys in memory based on their hash values.  \n",
        "- This allows **fast lookups** but does not guarantee order.\n",
        "\n",
        "#### **4. Impact on Data Retrieval**  \n",
        "- **Fast Access:** Since dictionaries use hashing, retrieving values is **O(1)** (constant time).  \n",
        "- **Iteration Order:** Before Python 3.7, dictionaries did **not** maintain insertion order.  \n",
        "- **Modern Python (3.7+):** Dictionaries **preserve insertion order**, but they are still considered unordered because their primary function is fast key-based access rather than sequential storage."
      ],
      "metadata": {
        "id": "QqR-7Scz6LX3"
      }
    },
    {
      "cell_type": "markdown",
      "source": [
        "20.  Explain the difference between a list and a dictionary in terms of data retrieval.\n",
        "\n",
        "  > ### **Difference Between Lists and Dictionaries in Data Retrieval**  \n",
        "Lists and dictionaries are both fundamental data structures in Python, but they differ significantly in how they store and retrieve data.\n",
        "\n",
        "#### **1. Access Method**  \n",
        "- **Lists:** Access elements using an **index** (`list[index]`), starting from `0`.  \n",
        "- **Dictionaries:** Access elements using **keys** (`dict[key]`), which can be any immutable data type.\n",
        "\n",
        "#### **2. Lookup Speed**  \n",
        "- **Lists:** Searching for an element requires **O(n)** time complexity (linear search).  \n",
        "- **Dictionaries:** Retrieving a value using a key is **O(1)** (constant time) due to **hashing**.\n",
        "\n",
        "#### **3. Data Organization**  \n",
        "- **Lists:** Store elements in a **sequential order**, making them ideal for ordered collections.  \n",
        "- **Dictionaries:** Store **key-value pairs**, making them better for structured data.\n",
        "\n",
        "#### **4. Example Comparison**  \n",
        "```python\n",
        "# List Example (Index-Based Retrieval)\n",
        "fruits = [\"apple\", \"banana\", \"cherry\"]\n",
        "print(fruits[1])  # Output: banana\n",
        "\n",
        "# Dictionary Example (Key-Based Retrieval)\n",
        "fruit_colors = {\"apple\": \"red\", \"banana\": \"yellow\", \"cherry\": \"red\"}\n",
        "print(fruit_colors[\"banana\"])  # Output: yellow\n",
        "```"
      ],
      "metadata": {
        "id": "Oi_5X4Ca8lno"
      }
    },
    {
      "cell_type": "markdown",
      "source": [
        "#  Practical Questions\n"
      ],
      "metadata": {
        "id": "WUFTa1g481ki"
      }
    },
    {
      "cell_type": "code",
      "source": [
        "# 1. Write a code to create a string with your name and print it.\n",
        "\n",
        "...\n",
        "# Creating a string with a name\n",
        "my_name = \"Anand\"\n",
        "\n",
        "# Printing the string\n",
        "print(my_name)\n"
      ],
      "metadata": {
        "colab": {
          "base_uri": "https://localhost:8080/"
        },
        "id": "-xMrgqMh9HCK",
        "outputId": "95ea164d-9983-4115-c5c6-b02025acc52e"
      },
      "execution_count": 8,
      "outputs": [
        {
          "output_type": "stream",
          "name": "stdout",
          "text": [
            "Anand\n"
          ]
        }
      ]
    },
    {
      "cell_type": "code",
      "source": [
        "# 2.  Write a code to find the length of the string \"Hello World\"\n",
        "\n",
        "# Define the string\n",
        "my_string = \"Hello World\"\n",
        "\n",
        "# Find the length of the string using the len() function\n",
        "string_length = len(my_string)\n",
        "\n",
        "# Print the length\n",
        "print(string_length)"
      ],
      "metadata": {
        "colab": {
          "base_uri": "https://localhost:8080/"
        },
        "id": "QuugtLxv9mQw",
        "outputId": "691c9676-9b0a-4b29-f832-59db777e1b08"
      },
      "execution_count": 9,
      "outputs": [
        {
          "output_type": "stream",
          "name": "stdout",
          "text": [
            "11\n"
          ]
        }
      ]
    },
    {
      "cell_type": "code",
      "source": [
        "# 3. Write a code to slice the first 3 characters from the string \"Python Programming\"\n",
        "\n",
        "# Define the string\n",
        "my_string = \"Python Programming\"\n",
        "\n",
        "# Slice the first 3 characters\n",
        "sliced_string = my_string[:3]\n",
        "\n",
        "# Print the sliced string\n",
        "print(sliced_string)"
      ],
      "metadata": {
        "colab": {
          "base_uri": "https://localhost:8080/"
        },
        "id": "K2EgAu-7-js7",
        "outputId": "28abd26a-9387-46c1-c310-40a94b7999dc"
      },
      "execution_count": 10,
      "outputs": [
        {
          "output_type": "stream",
          "name": "stdout",
          "text": [
            "Pyt\n"
          ]
        }
      ]
    },
    {
      "cell_type": "code",
      "source": [
        "#4. # Write a code to convert the string \"hello\" to uppercase\n",
        "\n",
        "# Define the string\n",
        "my_string = \"hello\"\n",
        "\n",
        "# Convert the string to uppercase using the upper() method\n",
        "uppercase_string = my_string.upper()\n",
        "\n",
        "# Print the uppercase string\n",
        "print(uppercase_string)"
      ],
      "metadata": {
        "colab": {
          "base_uri": "https://localhost:8080/"
        },
        "id": "6cnikQI0-wnP",
        "outputId": "2de10bf3-80e6-4c58-d6e4-308bca82c6b7"
      },
      "execution_count": 11,
      "outputs": [
        {
          "output_type": "stream",
          "name": "stdout",
          "text": [
            "HELLO\n"
          ]
        }
      ]
    },
    {
      "cell_type": "code",
      "source": [
        "#5.# Write a code to replace the word \"apple\" with \"orange\" in the string \"I like apple\"\n",
        "\n",
        "# Define the string\n",
        "my_string = \"I like apple\"\n",
        "\n",
        "# Replace \"apple\" with \"orange\" using the replace() method\n",
        "new_string = my_string.replace(\"apple\", \"orange\")\n",
        "\n",
        "# Print the new string\n",
        "print(new_string)"
      ],
      "metadata": {
        "colab": {
          "base_uri": "https://localhost:8080/"
        },
        "id": "TjSLKSFN-6U1",
        "outputId": "355821dd-1692-49bd-97ad-3570b4725bed"
      },
      "execution_count": 12,
      "outputs": [
        {
          "output_type": "stream",
          "name": "stdout",
          "text": [
            "I like orange\n"
          ]
        }
      ]
    },
    {
      "cell_type": "code",
      "source": [
        "#6. # Write a code to create a list with numbers 1 to 5 and print it\n",
        "\n",
        "# Create a list with numbers 1 to 5\n",
        "my_list = [1, 2, 3, 4, 5]\n",
        "\n",
        "# Print the list\n",
        "print(my_list)"
      ],
      "metadata": {
        "colab": {
          "base_uri": "https://localhost:8080/"
        },
        "id": "ZQBm_kWk_KYh",
        "outputId": "038f8df7-32a8-49dd-98e7-e883934b1bd2"
      },
      "execution_count": 13,
      "outputs": [
        {
          "output_type": "stream",
          "name": "stdout",
          "text": [
            "[1, 2, 3, 4, 5]\n"
          ]
        }
      ]
    },
    {
      "cell_type": "code",
      "source": [
        "#7. # Write a code to append the number 10 to the list [1, 2, 3, 4]\n",
        "\n",
        "# Define the list\n",
        "my_list = [1, 2, 3, 4]\n",
        "\n",
        "# Append the number 10 to the list\n",
        "my_list.append(10)\n",
        "\n",
        "# Print the modified list\n",
        "print(my_list)"
      ],
      "metadata": {
        "colab": {
          "base_uri": "https://localhost:8080/"
        },
        "id": "PPmAuons_TsH",
        "outputId": "c96cccdd-3745-43ba-9162-30cc49078d80"
      },
      "execution_count": 14,
      "outputs": [
        {
          "output_type": "stream",
          "name": "stdout",
          "text": [
            "[1, 2, 3, 4, 10]\n"
          ]
        }
      ]
    },
    {
      "cell_type": "code",
      "source": [
        "#8.# Write a code to remove the number 3 from the list [1, 2, 3, 4, 5]\n",
        "\n",
        "# Define the list\n",
        "my_list = [1, 2, 3, 4, 5]\n",
        "\n",
        "# Remove the number 3 from the list using the remove() method\n",
        "my_list.remove(3)\n",
        "\n",
        "# Print the modified list\n",
        "print(my_list)"
      ],
      "metadata": {
        "colab": {
          "base_uri": "https://localhost:8080/"
        },
        "id": "4cxAbFpV_ezq",
        "outputId": "691bb000-7a02-401a-8f39-2d19a7b93fc0"
      },
      "execution_count": 15,
      "outputs": [
        {
          "output_type": "stream",
          "name": "stdout",
          "text": [
            "[1, 2, 4, 5]\n"
          ]
        }
      ]
    },
    {
      "cell_type": "code",
      "source": [
        "#9. # Write a code to access the second element in the list ['a', 'b', 'c', 'd']\n",
        "\n",
        "# Define the list\n",
        "my_list = ['a', 'b', 'c', 'd']\n",
        "\n",
        "# Access the second element (index 1)\n",
        "second_element = my_list[1]\n",
        "\n",
        "# Print the second element\n",
        "print(second_element)"
      ],
      "metadata": {
        "colab": {
          "base_uri": "https://localhost:8080/"
        },
        "id": "dx7o1cyX_nV3",
        "outputId": "a2ef6f7b-126d-4541-fb4b-fc480cd3997d"
      },
      "execution_count": 16,
      "outputs": [
        {
          "output_type": "stream",
          "name": "stdout",
          "text": [
            "b\n"
          ]
        }
      ]
    },
    {
      "cell_type": "code",
      "source": [
        "#10. # Write a code to reverse the list [10, 20, 30, 40, 50].\n",
        "\n",
        "# Define the list\n",
        "my_list = [10, 20, 30, 40, 50]\n",
        "\n",
        "# Reverse the list using the reverse() method\n",
        "my_list.reverse()\n",
        "\n",
        "# Print the reversed list\n",
        "print(my_list)"
      ],
      "metadata": {
        "colab": {
          "base_uri": "https://localhost:8080/"
        },
        "id": "F4XVZxMOAYk3",
        "outputId": "8c4e33b9-7c18-4367-bef1-a9712adab017"
      },
      "execution_count": 17,
      "outputs": [
        {
          "output_type": "stream",
          "name": "stdout",
          "text": [
            "[50, 40, 30, 20, 10]\n"
          ]
        }
      ]
    },
    {
      "cell_type": "code",
      "source": [
        "#11. # Write a code to create a tuple with the elements 100, 200, 300 and print it\n",
        "\n",
        "# Create a tuple with the elements 100, 200, 300\n",
        "my_tuple = (100, 200, 300)\n",
        "\n",
        "# Print the tuple\n",
        "print(my_tuple)"
      ],
      "metadata": {
        "colab": {
          "base_uri": "https://localhost:8080/"
        },
        "id": "ZNg9j9vuAh9T",
        "outputId": "1de69910-49f1-4675-fc26-d9c479ba0876"
      },
      "execution_count": 18,
      "outputs": [
        {
          "output_type": "stream",
          "name": "stdout",
          "text": [
            "(100, 200, 300)\n"
          ]
        }
      ]
    },
    {
      "cell_type": "code",
      "source": [
        "#12. # Write a code to access the second-to-last element of the tuple ('red', 'green', 'blue', 'yellow').\n",
        "\n",
        "# Define the tuple\n",
        "my_tuple = ('red', 'green', 'blue', 'yellow')\n",
        "\n",
        "# Access the second-to-last element using negative indexing\n",
        "second_to_last_element = my_tuple[-2]\n",
        "\n",
        "# Print the second-to-last element\n",
        "print(second_to_last_element)"
      ],
      "metadata": {
        "colab": {
          "base_uri": "https://localhost:8080/"
        },
        "id": "btBBtmm4BWmg",
        "outputId": "6596ded2-87bd-45b6-b22b-e541ee06a024"
      },
      "execution_count": 19,
      "outputs": [
        {
          "output_type": "stream",
          "name": "stdout",
          "text": [
            "blue\n"
          ]
        }
      ]
    },
    {
      "cell_type": "code",
      "source": [
        "#13.# Write a code to find the minimum number in the tuple (10, 20, 5, 15).\n",
        "\n",
        "# Define the tuple\n",
        "my_tuple = (10, 20, 5, 15)\n",
        "\n",
        "# Find the minimum number using the min() function\n",
        "min_number = min(my_tuple)\n",
        "\n",
        "# Print the minimum number\n",
        "print(min_number)"
      ],
      "metadata": {
        "colab": {
          "base_uri": "https://localhost:8080/"
        },
        "id": "avHbz7OhBngS",
        "outputId": "b6f7d635-0ead-45e2-f5ed-17829c923965"
      },
      "execution_count": 20,
      "outputs": [
        {
          "output_type": "stream",
          "name": "stdout",
          "text": [
            "5\n"
          ]
        }
      ]
    },
    {
      "cell_type": "code",
      "source": [
        "#14.# Write a code to find the index of the element \"cat\" in the tuple ('dog', 'cat', 'rabbit').\n",
        "\n",
        "# Define the tuple\n",
        "my_tuple = ('dog', 'cat', 'rabbit')\n",
        "\n",
        "# Find the index of \"cat\" using the index() method\n",
        "index_of_cat = my_tuple.index(\"cat\")\n",
        "\n",
        "# Print the index\n",
        "print(index_of_cat)"
      ],
      "metadata": {
        "colab": {
          "base_uri": "https://localhost:8080/"
        },
        "id": "xbgthB5xCDjt",
        "outputId": "4340f9f3-5dcb-44ab-fcdd-fd4e895dc098"
      },
      "execution_count": 21,
      "outputs": [
        {
          "output_type": "stream",
          "name": "stdout",
          "text": [
            "1\n"
          ]
        }
      ]
    },
    {
      "cell_type": "code",
      "source": [
        "#15.# Write a code to create a tuple containing three different fruits and check if \"kiwi\" is in it.\n",
        "\n",
        "# Create a tuple of fruits\n",
        "fruit_tuple = (\"apple\", \"banana\", \"orange\")\n",
        "\n",
        "# Check if \"kiwi\" is in the tuple using the 'in' keyword\n",
        "is_kiwi_present = \"kiwi\" in fruit_tuple\n",
        "\n",
        "# Print the result\n",
        "print(is_kiwi_present)"
      ],
      "metadata": {
        "colab": {
          "base_uri": "https://localhost:8080/"
        },
        "id": "vRH28VdUBnZA",
        "outputId": "0d62a49c-bffe-465c-f4f3-334f2d3ceadc"
      },
      "execution_count": 22,
      "outputs": [
        {
          "output_type": "stream",
          "name": "stdout",
          "text": [
            "False\n"
          ]
        }
      ]
    },
    {
      "cell_type": "code",
      "source": [
        "#16.# Write a code to create a set with the elements 'a', 'b', 'c' and print it.\n",
        "\n",
        "# Create a set with the specified elements\n",
        "my_set = {'a', 'b', 'c'}\n",
        "\n",
        "# Print the set\n",
        "print(my_set)"
      ],
      "metadata": {
        "colab": {
          "base_uri": "https://localhost:8080/"
        },
        "id": "TBVDkUPVBnQs",
        "outputId": "4be86635-c831-4ce7-ec7a-427c73385f47"
      },
      "execution_count": 23,
      "outputs": [
        {
          "output_type": "stream",
          "name": "stdout",
          "text": [
            "{'c', 'b', 'a'}\n"
          ]
        }
      ]
    },
    {
      "cell_type": "code",
      "source": [
        "#17.# Write a code to clear all elements from the set {1, 2, 3, 4, 5}.\n",
        "\n",
        "# Define the set\n",
        "my_set = {1, 2, 3, 4, 5}\n",
        "\n",
        "# Clear all elements from the set using the clear() method\n",
        "my_set.clear()\n",
        "\n",
        "# Print the empty set\n",
        "print(my_set)"
      ],
      "metadata": {
        "colab": {
          "base_uri": "https://localhost:8080/"
        },
        "id": "KH4_WgQgBnH6",
        "outputId": "14386f7d-ee11-4bc9-f830-a97f6bdbe0df"
      },
      "execution_count": 29,
      "outputs": [
        {
          "output_type": "stream",
          "name": "stdout",
          "text": [
            "set()\n"
          ]
        }
      ]
    },
    {
      "cell_type": "code",
      "source": [
        "#18.# Write a code to remove the element 4 from the set {1, 2, 3, 4}.\n",
        "\n",
        "# Define the set\n",
        "my_set = {1, 2, 3, 4}\n",
        "\n",
        "# Remove the element 4 from the set using the remove() method\n",
        "my_set.remove(4)\n",
        "\n",
        "# Print the modified set\n",
        "print(my_set)"
      ],
      "metadata": {
        "colab": {
          "base_uri": "https://localhost:8080/"
        },
        "id": "r1E-qjVKBm-g",
        "outputId": "917a5c8f-5d44-4e94-8fe7-54530973a095"
      },
      "execution_count": 28,
      "outputs": [
        {
          "output_type": "stream",
          "name": "stdout",
          "text": [
            "{1, 2, 3}\n"
          ]
        }
      ]
    },
    {
      "cell_type": "code",
      "source": [
        "#19.# Write a code to find the union of two sets {1, 2, 3} and {3, 4, 5}.\n",
        "\n",
        "# Define the two sets\n",
        "set1 = {1, 2, 3}\n",
        "set2 = {3, 4, 5}\n",
        "\n",
        "# Find the union of the two sets using the union() method or the '|' operator\n",
        "union_set = set1.union(set2)\n",
        "# Alternatively: union_set = set1 | set2\n",
        "\n",
        "# Print the union set\n",
        "print(union_set)"
      ],
      "metadata": {
        "colab": {
          "base_uri": "https://localhost:8080/"
        },
        "id": "oDamIZSGBm1_",
        "outputId": "1058908a-3b7f-4801-f5d1-dcf844113e92"
      },
      "execution_count": 27,
      "outputs": [
        {
          "output_type": "stream",
          "name": "stdout",
          "text": [
            "{1, 2, 3, 4, 5}\n"
          ]
        }
      ]
    },
    {
      "cell_type": "code",
      "source": [
        "#20.# Write a code to find the intersection of two sets {1, 2, 3} and {2, 3, 4}.\n",
        "\n",
        "# Define the two sets\n",
        "set1 = {1, 2, 3}\n",
        "set2 = {2, 3, 4}\n",
        "\n",
        "# Find the intersection of the two sets using the intersection() method or the '&' operator\n",
        "intersection_set = set1.intersection(set2)\n",
        "# Alternatively: intersection_set = set1 & set2\n",
        "\n",
        "# Print the intersection set\n",
        "print(intersection_set)"
      ],
      "metadata": {
        "colab": {
          "base_uri": "https://localhost:8080/"
        },
        "id": "_utSJucRBmsZ",
        "outputId": "7ecc2846-9c79-4f4f-eb75-d4501ab82971"
      },
      "execution_count": 26,
      "outputs": [
        {
          "output_type": "stream",
          "name": "stdout",
          "text": [
            "{2, 3}\n"
          ]
        }
      ]
    },
    {
      "cell_type": "code",
      "source": [
        "#21.# Write a code to create a dictionary with the keys \"name\", \"age\", and \"city\", and print it.\n",
        "\n",
        "# Create a dictionary with keys \"name\", \"age\", and \"city\".\n",
        "# You can initialize them with placeholder values like None or empty strings.\n",
        "my_dict = {\"name\": None, \"age\": None, \"city\": None}\n",
        "\n",
        "# Print the dictionary\n",
        "print(my_dict)"
      ],
      "metadata": {
        "colab": {
          "base_uri": "https://localhost:8080/"
        },
        "id": "Xoz20Q11Bmip",
        "outputId": "6df4fcbc-d29b-439f-fce1-b833d29bdf84"
      },
      "execution_count": 25,
      "outputs": [
        {
          "output_type": "stream",
          "name": "stdout",
          "text": [
            "{'name': None, 'age': None, 'city': None}\n"
          ]
        }
      ]
    },
    {
      "cell_type": "code",
      "source": [
        "#22.# Write a code to add a new key-value pair \"country\": \"USA\" to the dictionary {'name': 'John', 'age': 25}.\n",
        "\n",
        "# Define the dictionary\n",
        "my_dict = {'name': 'John', 'age': 25}\n",
        "\n",
        "# Add a new key-value pair\n",
        "my_dict[\"country\"] = \"USA\"\n",
        "\n",
        "# Print the modified dictionary\n",
        "print(my_dict)"
      ],
      "metadata": {
        "colab": {
          "base_uri": "https://localhost:8080/"
        },
        "id": "mGrdWMKmBmYJ",
        "outputId": "4189fbac-46e4-46ea-8058-45fe952a28a6"
      },
      "execution_count": 24,
      "outputs": [
        {
          "output_type": "stream",
          "name": "stdout",
          "text": [
            "{'name': 'John', 'age': 25, 'country': 'USA'}\n"
          ]
        }
      ]
    },
    {
      "cell_type": "code",
      "source": [
        "#23.# Write a code to access the value associated with the key \"name\" in the dictionary {'name': 'Alice', 'age': 30}.\n",
        "\n",
        "# Define the dictionary\n",
        "my_dict = {'name': 'Alice', 'age': 30}\n",
        "\n",
        "# Access the value associated with the key \"name\"\n",
        "name_value = my_dict[\"name\"]\n",
        "\n",
        "# Print the value\n",
        "print(name_value)"
      ],
      "metadata": {
        "colab": {
          "base_uri": "https://localhost:8080/"
        },
        "id": "K82LSEvCBmPB",
        "outputId": "b11b2c3d-fcdb-460e-8f17-0af8bedb63c4"
      },
      "execution_count": 30,
      "outputs": [
        {
          "output_type": "stream",
          "name": "stdout",
          "text": [
            "Alice\n"
          ]
        }
      ]
    },
    {
      "cell_type": "code",
      "source": [
        "#24.# Write a code to remove the key \"age\" from the dictionary {'name': 'Bob', 'age': 22, 'city': 'New York'}.\n",
        "\n",
        "# Define the dictionary\n",
        "my_dict = {'name': 'Bob', 'age': 22, 'city': 'New York'}\n",
        "\n",
        "# Remove the key \"age\" using the pop() method or the del keyword\n",
        "# Using pop() allows you to get the value before removing, or provide a default if the key doesn't exist\n",
        "# removed_value = my_dict.pop(\"age\", None)\n",
        "# Using del is a more direct way to remove\n",
        "del my_dict[\"age\"]\n",
        "\n",
        "\n",
        "# Print the modified dictionary\n",
        "print(my_dict)"
      ],
      "metadata": {
        "colab": {
          "base_uri": "https://localhost:8080/"
        },
        "id": "CJ6rRje2BmE0",
        "outputId": "954fd452-39c8-4583-8ca7-c1a8abe9ea45"
      },
      "execution_count": 31,
      "outputs": [
        {
          "output_type": "stream",
          "name": "stdout",
          "text": [
            "{'name': 'Bob', 'city': 'New York'}\n"
          ]
        }
      ]
    },
    {
      "cell_type": "code",
      "source": [
        "#25.# Write a code to check if the key \"city\" exists in the dictionary {'name': 'Alice', 'city': 'Paris'}.\n",
        "\n",
        "# Define the dictionary\n",
        "my_dict = {'name': 'Alice', 'city': 'Paris'}\n",
        "\n",
        "# Check if the key \"city\" exists using the 'in' keyword\n",
        "is_city_present = \"city\" in my_dict\n",
        "\n",
        "# Print the result\n",
        "print(is_city_present)"
      ],
      "metadata": {
        "colab": {
          "base_uri": "https://localhost:8080/"
        },
        "id": "xQj8bPxPBl6e",
        "outputId": "e8967e1a-8ccd-43f1-9ea0-e326a24b2a3a"
      },
      "execution_count": 32,
      "outputs": [
        {
          "output_type": "stream",
          "name": "stdout",
          "text": [
            "True\n"
          ]
        }
      ]
    },
    {
      "cell_type": "code",
      "source": [
        "#26.# Write a code to create a list, a tuple, and a dictionary, and print them all.\n",
        "\n",
        "# Create a list\n",
        "my_list = [1, 2, 3, 'a', 'b']\n",
        "\n",
        "# Create a tuple\n",
        "my_tuple = (10, 20, 30, 'x', 'y')\n",
        "\n",
        "# Create a dictionary\n",
        "my_dict = {'name': 'Alice', 'age': 30, 'city': 'London'}\n",
        "\n",
        "# Print all three data structures\n",
        "print(\"My List:\", my_list)\n",
        "print(\"My Tuple:\", my_tuple)\n",
        "print(\"My Dictionary:\", my_dict)"
      ],
      "metadata": {
        "colab": {
          "base_uri": "https://localhost:8080/"
        },
        "id": "uLfVbiA8BlwM",
        "outputId": "9fd4b218-d876-41a4-f735-316a74eaeb97"
      },
      "execution_count": 34,
      "outputs": [
        {
          "output_type": "stream",
          "name": "stdout",
          "text": [
            "My List: [1, 2, 3, 'a', 'b']\n",
            "My Tuple: (10, 20, 30, 'x', 'y')\n",
            "My Dictionary: {'name': 'Alice', 'age': 30, 'city': 'London'}\n"
          ]
        }
      ]
    },
    {
      "cell_type": "code",
      "source": [
        "#27.# Write a code to create a list of 5 random numbers between 1 and 100, sort it in ascending order, and print the result.\n",
        "\n",
        "import random\n",
        "\n",
        "# Create a list of 5 random numbers between 1 and 100\n",
        "random_numbers = [random.randint(1, 100) for _ in range(5)]\n",
        "\n",
        "# Sort the list in ascending order\n",
        "random_numbers.sort()\n",
        "\n",
        "# Print the sorted list\n",
        "print(random_numbers)"
      ],
      "metadata": {
        "colab": {
          "base_uri": "https://localhost:8080/"
        },
        "id": "dCK9SbqeBllo",
        "outputId": "19066caf-b65a-405d-ba9e-c88f8f05075d"
      },
      "execution_count": 33,
      "outputs": [
        {
          "output_type": "stream",
          "name": "stdout",
          "text": [
            "[7, 29, 52, 67, 87]\n"
          ]
        }
      ]
    },
    {
      "cell_type": "code",
      "source": [
        "#28.# Write a code to create a list with strings and print the element at the third index.\n",
        "\n",
        "# Create a list of strings\n",
        "my_string_list = [\"apple\", \"banana\", \"cherry\", \"date\", \"elderberry\"]\n",
        "\n",
        "# Access the element at the third index (remember indexing starts at 0)\n",
        "third_element = my_string_list[3]\n",
        "\n",
        "# Print the element\n",
        "print(third_element)"
      ],
      "metadata": {
        "colab": {
          "base_uri": "https://localhost:8080/"
        },
        "id": "yNvafyGjBlbi",
        "outputId": "86a676c0-3e7a-4e16-8e06-1278383b47b7"
      },
      "execution_count": 35,
      "outputs": [
        {
          "output_type": "stream",
          "name": "stdout",
          "text": [
            "date\n"
          ]
        }
      ]
    },
    {
      "cell_type": "code",
      "source": [
        "#29.# Write a code to combine two dictionaries into one and print the result.\n",
        "\n",
        "# Define the two dictionaries\n",
        "dict1 = {\"a\": 1, \"b\": 2}\n",
        "dict2 = {\"c\": 3, \"d\": 4}\n",
        "\n",
        "# Combine the dictionaries. In Python 3.5+, you can use the ** operator.\n",
        "# In older versions, you might use update() or other methods.\n",
        "combined_dict = {**dict1, **dict2}\n",
        "\n",
        "# Print the combined dictionary\n",
        "print(combined_dict)"
      ],
      "metadata": {
        "colab": {
          "base_uri": "https://localhost:8080/"
        },
        "id": "TxwuZZGvBk2i",
        "outputId": "88ea5f09-6672-4e46-9838-6fcfdd97286a"
      },
      "execution_count": 36,
      "outputs": [
        {
          "output_type": "stream",
          "name": "stdout",
          "text": [
            "{'a': 1, 'b': 2, 'c': 3, 'd': 4}\n"
          ]
        }
      ]
    },
    {
      "cell_type": "code",
      "source": [
        "#30.# Write a code to convert a list of strings into a set\n",
        "\n",
        "# Create a list of strings\n",
        "my_string_list = [\"apple\", \"banana\", \"cherry\", \"apple\", \"date\"]\n",
        "\n",
        "# Convert the list to a set. Duplicates will be automatically removed.\n",
        "my_set = set(my_string_list)\n",
        "\n",
        "# Print the resulting set\n",
        "print(my_set)"
      ],
      "metadata": {
        "colab": {
          "base_uri": "https://localhost:8080/"
        },
        "id": "PXCZvro2Bj75",
        "outputId": "182767e6-bfd7-4578-851f-80fbba3f0dcf"
      },
      "execution_count": 37,
      "outputs": [
        {
          "output_type": "stream",
          "name": "stdout",
          "text": [
            "{'cherry', 'date', 'apple', 'banana'}\n"
          ]
        }
      ]
    },
    {
      "cell_type": "code",
      "source": [],
      "metadata": {
        "id": "HOkPfU-aBjqX"
      },
      "execution_count": null,
      "outputs": []
    }
  ]
}